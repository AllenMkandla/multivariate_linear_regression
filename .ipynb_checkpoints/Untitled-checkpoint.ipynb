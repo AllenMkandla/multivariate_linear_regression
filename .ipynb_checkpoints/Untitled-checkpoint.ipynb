{
 "cells": [
  {
   "cell_type": "markdown",
   "metadata": {},
   "source": []
  },
  {
   "cell_type": "markdown",
   "metadata": {},
   "source": [
    "\n",
    "\n",
    "\n",
    "# MULTIVARIATE LINEAR REGRESSION\n",
    "\n",
    "### Background Information\n",
    "\n",
    "\n",
    "We will predict employee salaries from different employee characteristics (or features). Import the data salary.csv to a Jupyter Notebook. A description of the variables is given in Salary metadata.csv."
   ]
  },
  {
   "cell_type": "code",
   "execution_count": null,
   "metadata": {},
   "outputs": [],
   "source": []
  },
  {
   "cell_type": "code",
   "execution_count": 27,
   "metadata": {},
   "outputs": [],
   "source": [
    "import pandas as pd\n",
    "import seaborn as sns \n",
    "import matplotlib.pyplot as plt\n",
    "from sklearn.model_selection import train_test_split\n",
    "import statsmodels.api as sm\n",
    "from statsmodels.stats.outliers_influence import variance_inflation_factor"
   ]
  },
  {
   "cell_type": "code",
   "execution_count": 28,
   "metadata": {},
   "outputs": [],
   "source": [
    "df = pd.read_csv(\"data/salary .csv\")"
   ]
  },
  {
   "cell_type": "code",
   "execution_count": 29,
   "metadata": {},
   "outputs": [
    {
     "data": {
      "text/html": [
       "<div>\n",
       "<style scoped>\n",
       "    .dataframe tbody tr th:only-of-type {\n",
       "        vertical-align: middle;\n",
       "    }\n",
       "\n",
       "    .dataframe tbody tr th {\n",
       "        vertical-align: top;\n",
       "    }\n",
       "\n",
       "    .dataframe thead th {\n",
       "        text-align: right;\n",
       "    }\n",
       "</style>\n",
       "<table border=\"1\" class=\"dataframe\">\n",
       "  <thead>\n",
       "    <tr style=\"text-align: right;\">\n",
       "      <th></th>\n",
       "      <th>salary</th>\n",
       "      <th>exprior</th>\n",
       "      <th>yearsworked</th>\n",
       "      <th>yearsrank</th>\n",
       "      <th>market</th>\n",
       "      <th>degree</th>\n",
       "      <th>otherqual</th>\n",
       "      <th>position</th>\n",
       "      <th>male</th>\n",
       "      <th>Field</th>\n",
       "      <th>yearsabs</th>\n",
       "    </tr>\n",
       "  </thead>\n",
       "  <tbody>\n",
       "    <tr>\n",
       "      <th>0</th>\n",
       "      <td>53000.0</td>\n",
       "      <td>0</td>\n",
       "      <td>0</td>\n",
       "      <td>0</td>\n",
       "      <td>1.17</td>\n",
       "      <td>1</td>\n",
       "      <td>0</td>\n",
       "      <td>1</td>\n",
       "      <td>1</td>\n",
       "      <td>3</td>\n",
       "      <td>0</td>\n",
       "    </tr>\n",
       "    <tr>\n",
       "      <th>1</th>\n",
       "      <td>58000.0</td>\n",
       "      <td>1</td>\n",
       "      <td>0</td>\n",
       "      <td>0</td>\n",
       "      <td>1.24</td>\n",
       "      <td>1</td>\n",
       "      <td>0</td>\n",
       "      <td>1</td>\n",
       "      <td>1</td>\n",
       "      <td>2</td>\n",
       "      <td>0</td>\n",
       "    </tr>\n",
       "    <tr>\n",
       "      <th>2</th>\n",
       "      <td>45500.0</td>\n",
       "      <td>0</td>\n",
       "      <td>0</td>\n",
       "      <td>0</td>\n",
       "      <td>1.21</td>\n",
       "      <td>1</td>\n",
       "      <td>0</td>\n",
       "      <td>1</td>\n",
       "      <td>1</td>\n",
       "      <td>3</td>\n",
       "      <td>2</td>\n",
       "    </tr>\n",
       "    <tr>\n",
       "      <th>3</th>\n",
       "      <td>35782.0</td>\n",
       "      <td>0</td>\n",
       "      <td>2</td>\n",
       "      <td>1</td>\n",
       "      <td>0.99</td>\n",
       "      <td>1</td>\n",
       "      <td>0</td>\n",
       "      <td>1</td>\n",
       "      <td>1</td>\n",
       "      <td>4</td>\n",
       "      <td>1</td>\n",
       "    </tr>\n",
       "    <tr>\n",
       "      <th>4</th>\n",
       "      <td>34731.0</td>\n",
       "      <td>0</td>\n",
       "      <td>2</td>\n",
       "      <td>2</td>\n",
       "      <td>0.91</td>\n",
       "      <td>1</td>\n",
       "      <td>0</td>\n",
       "      <td>1</td>\n",
       "      <td>1</td>\n",
       "      <td>4</td>\n",
       "      <td>1</td>\n",
       "    </tr>\n",
       "  </tbody>\n",
       "</table>\n",
       "</div>"
      ],
      "text/plain": [
       "    salary  exprior  yearsworked  yearsrank  market  degree  otherqual  \\\n",
       "0  53000.0        0            0          0    1.17       1          0   \n",
       "1  58000.0        1            0          0    1.24       1          0   \n",
       "2  45500.0        0            0          0    1.21       1          0   \n",
       "3  35782.0        0            2          1    0.99       1          0   \n",
       "4  34731.0        0            2          2    0.91       1          0   \n",
       "\n",
       "   position  male  Field  yearsabs  \n",
       "0         1     1      3         0  \n",
       "1         1     1      2         0  \n",
       "2         1     1      3         2  \n",
       "3         1     1      4         1  \n",
       "4         1     1      4         1  "
      ]
     },
     "execution_count": 29,
     "metadata": {},
     "output_type": "execute_result"
    }
   ],
   "source": [
    "df.head()"
   ]
  },
  {
   "cell_type": "markdown",
   "metadata": {},
   "source": [
    "# 1. Cleaning of Data"
   ]
  },
  {
   "cell_type": "code",
   "execution_count": 30,
   "metadata": {},
   "outputs": [],
   "source": [
    "#renaming the columns\n",
    "file= df.rename(columns={\n",
    "    'salary': 'salary_earned',\n",
    "    'exprior': 'prior_experience',\n",
    "    'yearsworked': 'years_worked',\n",
    "    'yearsrank': 'yrs_current_rank',\n",
    "    'market': 'market_value',\n",
    "    'male': 'gender',\n",
    "    'Field': 'field',\n",
    "    'yearsabs': 'years_absent',\n",
    "    'otherqual': 'post-secondary_qual',\n",
    "    'position': 'rank',\n",
    "    \n",
    "}, inplace=True\n",
    "                       )"
   ]
  },
  {
   "cell_type": "code",
   "execution_count": 31,
   "metadata": {},
   "outputs": [],
   "source": [
    "# Rounding off salary column as it is a variable representing currency\n",
    "df.salary_earned = df.salary_earned.round(2)"
   ]
  },
  {
   "cell_type": "markdown",
   "metadata": {},
   "source": [
    "\n",
    "\n",
    "### 1.1 Checking for null values "
   ]
  },
  {
   "cell_type": "code",
   "execution_count": 32,
   "metadata": {},
   "outputs": [
    {
     "data": {
      "text/plain": [
       "(514, 11)"
      ]
     },
     "execution_count": 32,
     "metadata": {},
     "output_type": "execute_result"
    }
   ],
   "source": [
    "df.isnull().sum()\n",
    "df.shape"
   ]
  },
  {
   "cell_type": "code",
   "execution_count": 33,
   "metadata": {},
   "outputs": [],
   "source": [
    "#filling the null value with the mean\n",
    "df = df.fillna(df['salary_earned'].mean())\n"
   ]
  },
  {
   "cell_type": "markdown",
   "metadata": {},
   "source": [
    "### 1.2 Derteming the outliers"
   ]
  },
  {
   "cell_type": "markdown",
   "metadata": {},
   "source": [
    "##### Importance of  checking for extreme values (outliers)\n",
    "* Linear regression is based on mostly parametric statistics like means, standard deviation and in this case correlation between salary earned and years of experience accrued. \n",
    "\n",
    "* Outliers who alter parametric statistics significantly would in turn alter predictions to be made."
   ]
  },
  {
   "cell_type": "code",
   "execution_count": 34,
   "metadata": {},
   "outputs": [
    {
     "data": {
      "text/html": [
       "<div>\n",
       "<style scoped>\n",
       "    .dataframe tbody tr th:only-of-type {\n",
       "        vertical-align: middle;\n",
       "    }\n",
       "\n",
       "    .dataframe tbody tr th {\n",
       "        vertical-align: top;\n",
       "    }\n",
       "\n",
       "    .dataframe thead th {\n",
       "        text-align: right;\n",
       "    }\n",
       "</style>\n",
       "<table border=\"1\" class=\"dataframe\">\n",
       "  <thead>\n",
       "    <tr style=\"text-align: right;\">\n",
       "      <th></th>\n",
       "      <th>salary_earned</th>\n",
       "      <th>prior_experience</th>\n",
       "      <th>years_worked</th>\n",
       "      <th>yrs_current_rank</th>\n",
       "      <th>market_value</th>\n",
       "      <th>degree</th>\n",
       "      <th>post-secondary_qual</th>\n",
       "      <th>rank</th>\n",
       "      <th>gender</th>\n",
       "      <th>field</th>\n",
       "      <th>years_absent</th>\n",
       "      <th>Is_it_an_extreme</th>\n",
       "    </tr>\n",
       "  </thead>\n",
       "  <tbody>\n",
       "    <tr>\n",
       "      <th>280</th>\n",
       "      <td>91405.0</td>\n",
       "      <td>0</td>\n",
       "      <td>23</td>\n",
       "      <td>14</td>\n",
       "      <td>1.18</td>\n",
       "      <td>1</td>\n",
       "      <td>0</td>\n",
       "      <td>3</td>\n",
       "      <td>1</td>\n",
       "      <td>1</td>\n",
       "      <td>0</td>\n",
       "      <td>Yes</td>\n",
       "    </tr>\n",
       "    <tr>\n",
       "      <th>377</th>\n",
       "      <td>96156.0</td>\n",
       "      <td>20</td>\n",
       "      <td>12</td>\n",
       "      <td>12</td>\n",
       "      <td>1.19</td>\n",
       "      <td>1</td>\n",
       "      <td>0</td>\n",
       "      <td>3</td>\n",
       "      <td>1</td>\n",
       "      <td>1</td>\n",
       "      <td>2</td>\n",
       "      <td>Yes</td>\n",
       "    </tr>\n",
       "  </tbody>\n",
       "</table>\n",
       "</div>"
      ],
      "text/plain": [
       "     salary_earned  prior_experience  years_worked  yrs_current_rank  \\\n",
       "280        91405.0                 0            23                14   \n",
       "377        96156.0                20            12                12   \n",
       "\n",
       "     market_value  degree  post-secondary_qual  rank  gender  field  \\\n",
       "280          1.18       1                    0     3       1      1   \n",
       "377          1.19       1                    0     3       1      1   \n",
       "\n",
       "     years_absent Is_it_an_extreme  \n",
       "280             0              Yes  \n",
       "377             2              Yes  "
      ]
     },
     "execution_count": 34,
     "metadata": {},
     "output_type": "execute_result"
    }
   ],
   "source": [
    "# dertemening the measure of what is construed to be an outlier\n",
    "import numpy as np\n",
    "# calculating the 75th and 25th percentiles\n",
    "q75_train, q25_train = np.percentile(df['salary_earned'], [75 ,25])\n",
    "#calculating the interqurtile range\n",
    "iqr_train = q75_train - q25_train\n",
    "# creating limitations to dettermie outliers\n",
    "lower_train_bound = q25_train - iqr_train*1.5\n",
    "upper_train_bound = q75_train + iqr_train*1.5\n",
    "df['Is_it_an_extreme'] = ['Yes' if i < lower_train_bound else 'Yes' if i > upper_train_bound else \"No\" for i in df.salary_earned]\n",
    "df_outliers = df[df.Is_it_an_extreme == 'Yes']\n",
    "df_outliers"
   ]
  },
  {
   "cell_type": "markdown",
   "metadata": {},
   "source": [
    "\n",
    "\n",
    "* The outliers in question do not change the results desired from the model but does affect assumptions made about the dependant variable(salary_earned)\n",
    "\n",
    "* The gradient of the regression model and the mean would be affected significantly enough to give reason for dropiing the values. The accuracy of the Predictions to be made will be slightly distorted due to that the values in question affect the skew of distribution for salary_earned. \n",
    "##### * The extreme values should be dropped"
   ]
  },
  {
   "cell_type": "markdown",
   "metadata": {},
   "source": [
    "####  Dropping the outliers"
   ]
  },
  {
   "cell_type": "code",
   "execution_count": 35,
   "metadata": {},
   "outputs": [],
   "source": [
    "#dropping the outliers\n",
    "df = df.drop(df.index[[280,377]])"
   ]
  },
  {
   "cell_type": "markdown",
   "metadata": {},
   "source": [
    "### 1.3 Dertemining the variables of interest"
   ]
  },
  {
   "cell_type": "code",
   "execution_count": 36,
   "metadata": {},
   "outputs": [
    {
     "data": {
      "text/html": [
       "<div>\n",
       "<style scoped>\n",
       "    .dataframe tbody tr th:only-of-type {\n",
       "        vertical-align: middle;\n",
       "    }\n",
       "\n",
       "    .dataframe tbody tr th {\n",
       "        vertical-align: top;\n",
       "    }\n",
       "\n",
       "    .dataframe thead th {\n",
       "        text-align: right;\n",
       "    }\n",
       "</style>\n",
       "<table border=\"1\" class=\"dataframe\">\n",
       "  <thead>\n",
       "    <tr style=\"text-align: right;\">\n",
       "      <th></th>\n",
       "      <th>salary_earned</th>\n",
       "      <th>prior_experience</th>\n",
       "      <th>years_worked</th>\n",
       "      <th>yrs_current_rank</th>\n",
       "      <th>market_value</th>\n",
       "      <th>degree</th>\n",
       "      <th>post-secondary_qual</th>\n",
       "      <th>rank</th>\n",
       "      <th>gender</th>\n",
       "      <th>field</th>\n",
       "      <th>years_absent</th>\n",
       "    </tr>\n",
       "  </thead>\n",
       "  <tbody>\n",
       "    <tr>\n",
       "      <th>salary_earned</th>\n",
       "      <td>1.0</td>\n",
       "      <td>0.102471</td>\n",
       "      <td>0.632135</td>\n",
       "      <td>0.613411</td>\n",
       "      <td>0.397153</td>\n",
       "      <td>0.043012</td>\n",
       "      <td>0.173972</td>\n",
       "      <td>0.704892</td>\n",
       "      <td>0.362302</td>\n",
       "      <td>-0.493484</td>\n",
       "      <td>-0.066496</td>\n",
       "    </tr>\n",
       "  </tbody>\n",
       "</table>\n",
       "</div>"
      ],
      "text/plain": [
       "               salary_earned  prior_experience  years_worked  \\\n",
       "salary_earned            1.0          0.102471      0.632135   \n",
       "\n",
       "               yrs_current_rank  market_value    degree  post-secondary_qual  \\\n",
       "salary_earned          0.613411      0.397153  0.043012             0.173972   \n",
       "\n",
       "                   rank    gender     field  years_absent  \n",
       "salary_earned  0.704892  0.362302 -0.493484     -0.066496  "
      ]
     },
     "execution_count": 36,
     "metadata": {},
     "output_type": "execute_result"
    }
   ],
   "source": [
    "df.corr().head(1)"
   ]
  },
  {
   "cell_type": "markdown",
   "metadata": {},
   "source": [
    "From the table above, we can deduce that the following may be good predictors of salary_earned:\n",
    "* years_worked\n",
    "* yrs_current_rank\n",
    "* market_value\n",
    "* rank\n",
    "* field"
   ]
  },
  {
   "cell_type": "markdown",
   "metadata": {},
   "source": [
    "## Distribution "
   ]
  },
  {
   "cell_type": "code",
   "execution_count": 37,
   "metadata": {},
   "outputs": [
    {
     "data": {
      "image/png": "[encoded data removed]",
      "text/plain": [
       "<Figure size 1872x1296 with 4 Axes>"
      ]
     },
     "metadata": {
      "needs_background": "light"
     },
     "output_type": "display_data"
    }
   ],
   "source": [
    "plt.subplots(2, 2,figsize=(26, 18))\n",
    "plt.subplot(2,2,1)\n",
    "plt.hist(df[\"salary_earned\"], bins = 20)\n",
    "plt.title(\"Salary earned\")\n",
    "plt.xlabel(\"salary_earned\")\n",
    "plt.ylabel(\"Frequency\")\n",
    "\n",
    "plt.subplot(2,2,2)\n",
    "plt.hist(df[\"years_worked\"], )\n",
    "plt.title(\"Years Worked\")\n",
    "plt.xlabel(\"years_worked\")\n",
    "plt.ylabel(\"Frequency\")\n",
    "\n",
    "plt.subplot(2,2,3)\n",
    "plt.hist(df[\"yrs_current_rank\"])\n",
    "plt.title(\"Years in current position\")\n",
    "plt.xlabel(\"yrs_current_rank\")\n",
    "plt.ylabel(\"Frequency\")\n",
    "\n",
    "plt.subplot(2,2,4)\n",
    "plt.hist(df[\"market_value\"])\n",
    "plt.title(\"Market Value\")\n",
    "plt.xlabel(\"market_value\")\n",
    "plt.ylabel(\"Frequency\")\n",
    "plt.show()"
   ]
  },
  {
   "cell_type": "markdown",
   "metadata": {},
   "source": [
    "## Scatterplots for continuous variables of interest "
   ]
  },
  {
   "cell_type": "code",
   "execution_count": 38,
   "metadata": {},
   "outputs": [
    {
     "data": {
      "text/plain": [
       "<matplotlib.axes._subplots.AxesSubplot at 0x7f0efba65710>"
      ]
     },
     "execution_count": 38,
     "metadata": {},
     "output_type": "execute_result"
    },
    {
     "data": {
      "image/png": "[encoded data removed]",
      "text/plain": [
       "<Figure size 2160x720 with 3 Axes>"
      ]
     },
     "metadata": {
      "needs_background": "light"
     },
     "output_type": "display_data"
    }
   ],
   "source": [
    "fig, axs = plt.subplots(1, 3, sharey=False)\n",
    "df.plot(kind='scatter', x='years_worked', y='salary_earned',title=\"years_worked~salary_earned\", ax=axs[0], figsize=(30, 10))\n",
    "df.plot(kind='scatter', x='yrs_current_rank', y='salary_earned',title=\"yrs_in_current_rank~salary_earned\",ax=axs[1])\n",
    "df.plot(kind='scatter', x='market_value', y='salary_earned', title=\"market_value~salary_earned\", ax=axs[2])\n"
   ]
  },
  {
   "cell_type": "markdown",
   "metadata": {},
   "source": [
    "\n",
    "# 3. Feature selection"
   ]
  },
  {
   "cell_type": "code",
   "execution_count": 39,
   "metadata": {},
   "outputs": [
    {
     "data": {
      "text/html": [
       "<div>\n",
       "<style scoped>\n",
       "    .dataframe tbody tr th:only-of-type {\n",
       "        vertical-align: middle;\n",
       "    }\n",
       "\n",
       "    .dataframe tbody tr th {\n",
       "        vertical-align: top;\n",
       "    }\n",
       "\n",
       "    .dataframe thead th {\n",
       "        text-align: right;\n",
       "    }\n",
       "</style>\n",
       "<table border=\"1\" class=\"dataframe\">\n",
       "  <thead>\n",
       "    <tr style=\"text-align: right;\">\n",
       "      <th></th>\n",
       "      <th>salary_earned</th>\n",
       "      <th>prior_experience</th>\n",
       "      <th>years_worked</th>\n",
       "      <th>yrs_current_rank</th>\n",
       "      <th>market_value</th>\n",
       "      <th>degree</th>\n",
       "      <th>post-secondary_qual</th>\n",
       "      <th>rank</th>\n",
       "      <th>gender</th>\n",
       "      <th>field</th>\n",
       "      <th>years_absent</th>\n",
       "    </tr>\n",
       "  </thead>\n",
       "  <tbody>\n",
       "    <tr>\n",
       "      <th>salary_earned</th>\n",
       "      <td>1.0</td>\n",
       "      <td>0.102471</td>\n",
       "      <td>0.632135</td>\n",
       "      <td>0.613411</td>\n",
       "      <td>0.397153</td>\n",
       "      <td>0.043012</td>\n",
       "      <td>0.173972</td>\n",
       "      <td>0.704892</td>\n",
       "      <td>0.362302</td>\n",
       "      <td>-0.493484</td>\n",
       "      <td>-0.066496</td>\n",
       "    </tr>\n",
       "  </tbody>\n",
       "</table>\n",
       "</div>"
      ],
      "text/plain": [
       "               salary_earned  prior_experience  years_worked  \\\n",
       "salary_earned            1.0          0.102471      0.632135   \n",
       "\n",
       "               yrs_current_rank  market_value    degree  post-secondary_qual  \\\n",
       "salary_earned          0.613411      0.397153  0.043012             0.173972   \n",
       "\n",
       "                   rank    gender     field  years_absent  \n",
       "salary_earned  0.704892  0.362302 -0.493484     -0.066496  "
      ]
     },
     "execution_count": 39,
     "metadata": {},
     "output_type": "execute_result"
    }
   ],
   "source": [
    "df.corr().head(1)"
   ]
  },
  {
   "cell_type": "markdown",
   "metadata": {},
   "source": [
    "### Feature Engineering"
   ]
  },
  {
   "cell_type": "markdown",
   "metadata": {},
   "source": [
    "### One- hot encoding categorical variables of interest"
   ]
  },
  {
   "cell_type": "code",
   "execution_count": 40,
   "metadata": {},
   "outputs": [
    {
     "data": {
      "text/html": [
       "<div>\n",
       "<style scoped>\n",
       "    .dataframe tbody tr th:only-of-type {\n",
       "        vertical-align: middle;\n",
       "    }\n",
       "\n",
       "    .dataframe tbody tr th {\n",
       "        vertical-align: top;\n",
       "    }\n",
       "\n",
       "    .dataframe thead th {\n",
       "        text-align: right;\n",
       "    }\n",
       "</style>\n",
       "<table border=\"1\" class=\"dataframe\">\n",
       "  <thead>\n",
       "    <tr style=\"text-align: right;\">\n",
       "      <th></th>\n",
       "      <th>salary_earned</th>\n",
       "      <th>prior_experience</th>\n",
       "      <th>years_worked</th>\n",
       "      <th>yrs_current_rank</th>\n",
       "      <th>market_value</th>\n",
       "      <th>degree</th>\n",
       "      <th>post-secondary_qual</th>\n",
       "      <th>gender</th>\n",
       "      <th>field</th>\n",
       "      <th>years_absent</th>\n",
       "      <th>rank_Executive</th>\n",
       "      <th>rank_Junior Employee</th>\n",
       "      <th>Is_it_an_extreme_No</th>\n",
       "    </tr>\n",
       "  </thead>\n",
       "  <tbody>\n",
       "    <tr>\n",
       "      <th>0</th>\n",
       "      <td>53000.0</td>\n",
       "      <td>0</td>\n",
       "      <td>0</td>\n",
       "      <td>0</td>\n",
       "      <td>1.17</td>\n",
       "      <td>1</td>\n",
       "      <td>0</td>\n",
       "      <td>1</td>\n",
       "      <td>3</td>\n",
       "      <td>0</td>\n",
       "      <td>0</td>\n",
       "      <td>1</td>\n",
       "      <td>1</td>\n",
       "    </tr>\n",
       "    <tr>\n",
       "      <th>1</th>\n",
       "      <td>58000.0</td>\n",
       "      <td>1</td>\n",
       "      <td>0</td>\n",
       "      <td>0</td>\n",
       "      <td>1.24</td>\n",
       "      <td>1</td>\n",
       "      <td>0</td>\n",
       "      <td>1</td>\n",
       "      <td>2</td>\n",
       "      <td>0</td>\n",
       "      <td>0</td>\n",
       "      <td>1</td>\n",
       "      <td>1</td>\n",
       "    </tr>\n",
       "    <tr>\n",
       "      <th>2</th>\n",
       "      <td>45500.0</td>\n",
       "      <td>0</td>\n",
       "      <td>0</td>\n",
       "      <td>0</td>\n",
       "      <td>1.21</td>\n",
       "      <td>1</td>\n",
       "      <td>0</td>\n",
       "      <td>1</td>\n",
       "      <td>3</td>\n",
       "      <td>2</td>\n",
       "      <td>0</td>\n",
       "      <td>1</td>\n",
       "      <td>1</td>\n",
       "    </tr>\n",
       "    <tr>\n",
       "      <th>3</th>\n",
       "      <td>35782.0</td>\n",
       "      <td>0</td>\n",
       "      <td>2</td>\n",
       "      <td>1</td>\n",
       "      <td>0.99</td>\n",
       "      <td>1</td>\n",
       "      <td>0</td>\n",
       "      <td>1</td>\n",
       "      <td>4</td>\n",
       "      <td>1</td>\n",
       "      <td>0</td>\n",
       "      <td>1</td>\n",
       "      <td>1</td>\n",
       "    </tr>\n",
       "    <tr>\n",
       "      <th>4</th>\n",
       "      <td>34731.0</td>\n",
       "      <td>0</td>\n",
       "      <td>2</td>\n",
       "      <td>2</td>\n",
       "      <td>0.91</td>\n",
       "      <td>1</td>\n",
       "      <td>0</td>\n",
       "      <td>1</td>\n",
       "      <td>4</td>\n",
       "      <td>1</td>\n",
       "      <td>0</td>\n",
       "      <td>1</td>\n",
       "      <td>1</td>\n",
       "    </tr>\n",
       "  </tbody>\n",
       "</table>\n",
       "</div>"
      ],
      "text/plain": [
       "   salary_earned  prior_experience  years_worked  yrs_current_rank  \\\n",
       "0        53000.0                 0             0                 0   \n",
       "1        58000.0                 1             0                 0   \n",
       "2        45500.0                 0             0                 0   \n",
       "3        35782.0                 0             2                 1   \n",
       "4        34731.0                 0             2                 2   \n",
       "\n",
       "   market_value  degree  post-secondary_qual  gender  field  years_absent  \\\n",
       "0          1.17       1                    0       1      3             0   \n",
       "1          1.24       1                    0       1      2             0   \n",
       "2          1.21       1                    0       1      3             2   \n",
       "3          0.99       1                    0       1      4             1   \n",
       "4          0.91       1                    0       1      4             1   \n",
       "\n",
       "   rank_Executive  rank_Junior Employee  Is_it_an_extreme_No  \n",
       "0               0                     1                    1  \n",
       "1               0                     1                    1  \n",
       "2               0                     1                    1  \n",
       "3               0                     1                    1  \n",
       "4               0                     1                    1  "
      ]
     },
     "execution_count": 40,
     "metadata": {},
     "output_type": "execute_result"
    }
   ],
   "source": [
    "df[\"rank\"] = df[\"rank\"].replace([1, 2, 3], ['Junior Employee', 'Manager', 'Executive'])\n",
    "df = pd.get_dummies(df).drop('rank_Manager', axis=1)\n",
    "df.head()\n"
   ]
  },
  {
   "cell_type": "code",
   "execution_count": 41,
   "metadata": {},
   "outputs": [],
   "source": [
    "# field one hot encoding \n",
    "df[\"field\"] = df[\"field\"].replace([1, 2, 3, 4], ['Engineering', 'Finance', 'Human Resources', 'Marketing'])\n",
    "df = pd.get_dummies(df).drop('field_Human Resources', axis=1)\n"
   ]
  },
  {
   "cell_type": "code",
   "execution_count": 42,
   "metadata": {},
   "outputs": [
    {
     "data": {
      "text/html": [
       "<div>\n",
       "<style scoped>\n",
       "    .dataframe tbody tr th:only-of-type {\n",
       "        vertical-align: middle;\n",
       "    }\n",
       "\n",
       "    .dataframe tbody tr th {\n",
       "        vertical-align: top;\n",
       "    }\n",
       "\n",
       "    .dataframe thead th {\n",
       "        text-align: right;\n",
       "    }\n",
       "</style>\n",
       "<table border=\"1\" class=\"dataframe\">\n",
       "  <thead>\n",
       "    <tr style=\"text-align: right;\">\n",
       "      <th></th>\n",
       "      <th>salary_earned</th>\n",
       "      <th>prior_experience</th>\n",
       "      <th>years_worked</th>\n",
       "      <th>yrs_current_rank</th>\n",
       "      <th>market_value</th>\n",
       "      <th>degree</th>\n",
       "      <th>post-secondary_qual</th>\n",
       "      <th>gender</th>\n",
       "      <th>years_absent</th>\n",
       "      <th>rank_Executive</th>\n",
       "      <th>rank_Junior Employee</th>\n",
       "      <th>Is_it_an_extreme_No</th>\n",
       "      <th>field_Engineering</th>\n",
       "      <th>field_Finance</th>\n",
       "      <th>field_Marketing</th>\n",
       "    </tr>\n",
       "  </thead>\n",
       "  <tbody>\n",
       "    <tr>\n",
       "      <th>salary_earned</th>\n",
       "      <td>1.0</td>\n",
       "      <td>0.102471</td>\n",
       "      <td>0.632135</td>\n",
       "      <td>0.613411</td>\n",
       "      <td>0.397153</td>\n",
       "      <td>0.043012</td>\n",
       "      <td>0.173972</td>\n",
       "      <td>0.362302</td>\n",
       "      <td>-0.066496</td>\n",
       "      <td>0.678244</td>\n",
       "      <td>-0.543852</td>\n",
       "      <td>NaN</td>\n",
       "      <td>0.414572</td>\n",
       "      <td>0.244826</td>\n",
       "      <td>-0.213358</td>\n",
       "    </tr>\n",
       "  </tbody>\n",
       "</table>\n",
       "</div>"
      ],
      "text/plain": [
       "               salary_earned  prior_experience  years_worked  \\\n",
       "salary_earned            1.0          0.102471      0.632135   \n",
       "\n",
       "               yrs_current_rank  market_value    degree  post-secondary_qual  \\\n",
       "salary_earned          0.613411      0.397153  0.043012             0.173972   \n",
       "\n",
       "                 gender  years_absent  rank_Executive  rank_Junior Employee  \\\n",
       "salary_earned  0.362302     -0.066496        0.678244             -0.543852   \n",
       "\n",
       "               Is_it_an_extreme_No  field_Engineering  field_Finance  \\\n",
       "salary_earned                  NaN           0.414572       0.244826   \n",
       "\n",
       "               field_Marketing  \n",
       "salary_earned        -0.213358  "
      ]
     },
     "execution_count": 42,
     "metadata": {},
     "output_type": "execute_result"
    }
   ],
   "source": [
    "df.corr().head(1)"
   ]
  },
  {
   "cell_type": "markdown",
   "metadata": {},
   "source": [
    "#### VIF\n",
    "\n",
    "years_worked\n",
    "yrs_current_rank\n",
    "market_value\n",
    "rank\n",
    "field"
   ]
  },
  {
   "cell_type": "markdown",
   "metadata": {},
   "source": [
    "## Multicollinearity"
   ]
  },
  {
   "cell_type": "markdown",
   "metadata": {},
   "source": [
    "This occurs when two or more variables explain the same variance within a dataset. Hence it is important to check for multicollinearity to reduce the risk of using two independent variables that contribute the same effect to the prediction to be made.This in turn would significantly alter the accuracy of the predictions to be made. "
   ]
  },
  {
   "cell_type": "code",
   "execution_count": 43,
   "metadata": {},
   "outputs": [
    {
     "data": {
      "text/html": [
       "<div>\n",
       "<style scoped>\n",
       "    .dataframe tbody tr th:only-of-type {\n",
       "        vertical-align: middle;\n",
       "    }\n",
       "\n",
       "    .dataframe tbody tr th {\n",
       "        vertical-align: top;\n",
       "    }\n",
       "\n",
       "    .dataframe thead th {\n",
       "        text-align: right;\n",
       "    }\n",
       "</style>\n",
       "<table border=\"1\" class=\"dataframe\">\n",
       "  <thead>\n",
       "    <tr style=\"text-align: right;\">\n",
       "      <th></th>\n",
       "      <th>VIF_factor</th>\n",
       "      <th>feature</th>\n",
       "    </tr>\n",
       "  </thead>\n",
       "  <tbody>\n",
       "    <tr>\n",
       "      <th>0</th>\n",
       "      <td>11.871014</td>\n",
       "      <td>years_worked</td>\n",
       "    </tr>\n",
       "    <tr>\n",
       "      <th>1</th>\n",
       "      <td>7.150770</td>\n",
       "      <td>yrs_current_rank</td>\n",
       "    </tr>\n",
       "    <tr>\n",
       "      <th>2</th>\n",
       "      <td>1.963741</td>\n",
       "      <td>field_Engineering</td>\n",
       "    </tr>\n",
       "    <tr>\n",
       "      <th>3</th>\n",
       "      <td>1.814546</td>\n",
       "      <td>field_Finance</td>\n",
       "    </tr>\n",
       "    <tr>\n",
       "      <th>4</th>\n",
       "      <td>1.683888</td>\n",
       "      <td>field_Marketing</td>\n",
       "    </tr>\n",
       "    <tr>\n",
       "      <th>5</th>\n",
       "      <td>3.423604</td>\n",
       "      <td>rank_Executive</td>\n",
       "    </tr>\n",
       "    <tr>\n",
       "      <th>6</th>\n",
       "      <td>1.374784</td>\n",
       "      <td>rank_Junior Employee</td>\n",
       "    </tr>\n",
       "  </tbody>\n",
       "</table>\n",
       "</div>"
      ],
      "text/plain": [
       "   VIF_factor               feature\n",
       "0   11.871014          years_worked\n",
       "1    7.150770      yrs_current_rank\n",
       "2    1.963741     field_Engineering\n",
       "3    1.814546         field_Finance\n",
       "4    1.683888       field_Marketing\n",
       "5    3.423604        rank_Executive\n",
       "6    1.374784  rank_Junior Employee"
      ]
     },
     "execution_count": 43,
     "metadata": {},
     "output_type": "execute_result"
    }
   ],
   "source": [
    "vif = pd.DataFrame()\n",
    "X = df[['years_worked','yrs_current_rank','field_Engineering','field_Finance','field_Marketing','rank_Executive', 'rank_Junior Employee', ]]\n",
    "# for each feature(independant variable in X), calculate VIF\n",
    "vif[\"VIF_factor\"] = [variance_inflation_factor(X.values, i) for i in range(X.shape[1])]\n",
    "vif[\"feature\"] = X.columns\n",
    "# vif = pd.DataFrame()\n",
    "vif"
   ]
  },
  {
   "cell_type": "markdown",
   "metadata": {},
   "source": [
    "\n",
    "drop the variable with VIF of 10 and higher which in this instant is years worked"
   ]
  },
  {
   "cell_type": "markdown",
   "metadata": {},
   "source": [
    "\n",
    "\n",
    "# 2. Splitting the data"
   ]
  },
  {
   "cell_type": "code",
   "execution_count": 48,
   "metadata": {},
   "outputs": [
    {
     "data": {
      "text/html": [
       "<table class=\"simpletable\">\n",
       "<caption>OLS Regression Results</caption>\n",
       "<tr>\n",
       "  <th>Dep. Variable:</th>      <td>salary_earned</td>  <th>  R-squared:         </th> <td>   0.725</td> \n",
       "</tr>\n",
       "<tr>\n",
       "  <th>Model:</th>                   <td>OLS</td>       <th>  Adj. R-squared:    </th> <td>   0.720</td> \n",
       "</tr>\n",
       "<tr>\n",
       "  <th>Method:</th>             <td>Least Squares</td>  <th>  F-statistic:       </th> <td>   150.8</td> \n",
       "</tr>\n",
       "<tr>\n",
       "  <th>Date:</th>             <td>Wed, 15 Apr 2020</td> <th>  Prob (F-statistic):</th> <td>3.94e-108</td>\n",
       "</tr>\n",
       "<tr>\n",
       "  <th>Time:</th>                 <td>16:15:27</td>     <th>  Log-Likelihood:    </th> <td> -4181.5</td> \n",
       "</tr>\n",
       "<tr>\n",
       "  <th>No. Observations:</th>      <td>   409</td>      <th>  AIC:               </th> <td>   8379.</td> \n",
       "</tr>\n",
       "<tr>\n",
       "  <th>Df Residuals:</th>          <td>   401</td>      <th>  BIC:               </th> <td>   8411.</td> \n",
       "</tr>\n",
       "<tr>\n",
       "  <th>Df Model:</th>              <td>     7</td>      <th>                     </th>     <td> </td>    \n",
       "</tr>\n",
       "<tr>\n",
       "  <th>Covariance Type:</th>      <td>nonrobust</td>    <th>                     </th>     <td> </td>    \n",
       "</tr>\n",
       "</table>\n",
       "<table class=\"simpletable\">\n",
       "<tr>\n",
       "            <td></td>              <th>coef</th>     <th>std err</th>      <th>t</th>      <th>P>|t|</th>  <th>[0.025</th>    <th>0.975]</th>  \n",
       "</tr>\n",
       "<tr>\n",
       "  <th>const</th>                <td> 4.222e+04</td> <td> 1041.198</td> <td>   40.554</td> <td> 0.000</td> <td> 4.02e+04</td> <td> 4.43e+04</td>\n",
       "</tr>\n",
       "<tr>\n",
       "  <th>years_worked</th>         <td> -380.2184</td> <td>   86.216</td> <td>   -4.410</td> <td> 0.000</td> <td> -549.710</td> <td> -210.726</td>\n",
       "</tr>\n",
       "<tr>\n",
       "  <th>yrs_current_rank</th>     <td>  906.5945</td> <td>   93.644</td> <td>    9.681</td> <td> 0.000</td> <td>  722.500</td> <td> 1090.689</td>\n",
       "</tr>\n",
       "<tr>\n",
       "  <th>field_Engineering</th>    <td> 9701.5892</td> <td> 1038.708</td> <td>    9.340</td> <td> 0.000</td> <td> 7659.595</td> <td> 1.17e+04</td>\n",
       "</tr>\n",
       "<tr>\n",
       "  <th>field_Finance</th>        <td> 8032.7412</td> <td>  985.545</td> <td>    8.151</td> <td> 0.000</td> <td> 6095.260</td> <td> 9970.222</td>\n",
       "</tr>\n",
       "<tr>\n",
       "  <th>field_Marketing</th>      <td> 2027.0930</td> <td>  947.015</td> <td>    2.141</td> <td> 0.033</td> <td>  165.359</td> <td> 3888.827</td>\n",
       "</tr>\n",
       "<tr>\n",
       "  <th>rank_Executive</th>       <td> 1.052e+04</td> <td>  993.920</td> <td>   10.587</td> <td> 0.000</td> <td> 8569.152</td> <td> 1.25e+04</td>\n",
       "</tr>\n",
       "<tr>\n",
       "  <th>rank_Junior Employee</th> <td>-7254.0951</td> <td> 1020.060</td> <td>   -7.111</td> <td> 0.000</td> <td>-9259.429</td> <td>-5248.761</td>\n",
       "</tr>\n",
       "</table>\n",
       "<table class=\"simpletable\">\n",
       "<tr>\n",
       "  <th>Omnibus:</th>       <td>34.810</td> <th>  Durbin-Watson:     </th> <td>   2.034</td>\n",
       "</tr>\n",
       "<tr>\n",
       "  <th>Prob(Omnibus):</th> <td> 0.000</td> <th>  Jarque-Bera (JB):  </th> <td>  42.069</td>\n",
       "</tr>\n",
       "<tr>\n",
       "  <th>Skew:</th>          <td> 0.707</td> <th>  Prob(JB):          </th> <td>7.32e-10</td>\n",
       "</tr>\n",
       "<tr>\n",
       "  <th>Kurtosis:</th>      <td> 3.685</td> <th>  Cond. No.          </th> <td>    87.0</td>\n",
       "</tr>\n",
       "</table><br/><br/>Warnings:<br/>[1] Standard Errors assume that the covariance matrix of the errors is correctly specified."
      ],
      "text/plain": [
       "<class 'statsmodels.iolib.summary.Summary'>\n",
       "\"\"\"\n",
       "                            OLS Regression Results                            \n",
       "==============================================================================\n",
       "Dep. Variable:          salary_earned   R-squared:                       0.725\n",
       "Model:                            OLS   Adj. R-squared:                  0.720\n",
       "Method:                 Least Squares   F-statistic:                     150.8\n",
       "Date:                Wed, 15 Apr 2020   Prob (F-statistic):          3.94e-108\n",
       "Time:                        16:15:27   Log-Likelihood:                -4181.5\n",
       "No. Observations:                 409   AIC:                             8379.\n",
       "Df Residuals:                     401   BIC:                             8411.\n",
       "Df Model:                           7                                         \n",
       "Covariance Type:            nonrobust                                         \n",
       "========================================================================================\n",
       "                           coef    std err          t      P>|t|      [0.025      0.975]\n",
       "----------------------------------------------------------------------------------------\n",
       "const                 4.222e+04   1041.198     40.554      0.000    4.02e+04    4.43e+04\n",
       "years_worked          -380.2184     86.216     -4.410      0.000    -549.710    -210.726\n",
       "yrs_current_rank       906.5945     93.644      9.681      0.000     722.500    1090.689\n",
       "field_Engineering     9701.5892   1038.708      9.340      0.000    7659.595    1.17e+04\n",
       "field_Finance         8032.7412    985.545      8.151      0.000    6095.260    9970.222\n",
       "field_Marketing       2027.0930    947.015      2.141      0.033     165.359    3888.827\n",
       "rank_Executive        1.052e+04    993.920     10.587      0.000    8569.152    1.25e+04\n",
       "rank_Junior Employee -7254.0951   1020.060     -7.111      0.000   -9259.429   -5248.761\n",
       "==============================================================================\n",
       "Omnibus:                       34.810   Durbin-Watson:                   2.034\n",
       "Prob(Omnibus):                  0.000   Jarque-Bera (JB):               42.069\n",
       "Skew:                           0.707   Prob(JB):                     7.32e-10\n",
       "Kurtosis:                       3.685   Cond. No.                         87.0\n",
       "==============================================================================\n",
       "\n",
       "Warnings:\n",
       "[1] Standard Errors assume that the covariance matrix of the errors is correctly specified.\n",
       "\"\"\""
      ]
     },
     "execution_count": 48,
     "metadata": {},
     "output_type": "execute_result"
    }
   ],
   "source": [
    "\n",
    "x = df[['years_worked','yrs_current_rank','field_Engineering','field_Finance','field_Marketing','rank_Executive', 'rank_Junior Employee', ]]\n",
    "y = df['salary_earned']\n",
    "X_train, X_test, y_train, y_test = train_test_split(x, y, test_size=0.20, random_state=42)\n",
    "#concatinating into Train and Test set\n",
    "df_train = pd.concat([X_train, y_train], axis=1).reindex(X_train.index)\n",
    "df_test = pd.concat([X_test, y_test], axis=1).reindex(X_test.index)\n",
    "\n",
    "X_train = sm.add_constant(X_train)\n",
    "X_test = sm.add_constant(X_test)\n",
    "\n",
    "X = X_train\n",
    "y = y_train\n",
    "\n",
    "model = sm.OLS(y, X).fit()\n",
    "model.summary()"
   ]
  },
  {
   "cell_type": "code",
   "execution_count": 49,
   "metadata": {},
   "outputs": [
    {
     "data": {
      "text/plain": [
       "const                   42224.564451\n",
       "years_worked             -380.218368\n",
       "yrs_current_rank          906.594497\n",
       "field_Engineering        9701.589234\n",
       "field_Finance            8032.741208\n",
       "field_Marketing          2027.092953\n",
       "rank_Executive          10523.096784\n",
       "rank_Junior Employee    -7254.095075\n",
       "dtype: float64"
      ]
     },
     "execution_count": 49,
     "metadata": {},
     "output_type": "execute_result"
    }
   ],
   "source": [
    "model.params"
   ]
  },
  {
   "cell_type": "markdown",
   "metadata": {},
   "source": [
    "### Calculating RMSE"
   ]
  },
  {
   "cell_type": "code",
   "execution_count": 51,
   "metadata": {},
   "outputs": [],
   "source": [
    "from statsmodels.tools.eval_measures import rmse\n",
    "\n",
    "rmse_train = rmse(y_train, model.predict(X_train))\n",
    "rmse_test = rmse(y_test, model.predict(X_test))"
   ]
  },
  {
   "cell_type": "markdown",
   "metadata": {},
   "source": [
    "### Residual plot"
   ]
  },
  {
   "cell_type": "code",
   "execution_count": 65,
   "metadata": {},
   "outputs": [
    {
     "data": {
      "image/png": "[encoded data removed]",
      "text/plain": [
       "<Figure size 720x576 with 1 Axes>"
      ]
     },
     "metadata": {
      "needs_background": "light"
     },
     "output_type": "display_data"
    }
   ],
   "source": [
    "plt.figure(figsize=(10,8))\n",
    "sns.residplot(x = model.fittedvalues, y = model.resid, lowess=True)\n",
    "\n",
    "plt.title('Residuals VS the Predicted Salary', fontsize=16)\n",
    "plt.xlabel('Fitted Values')\n",
    "plt.ylabel('Residuals')\n",
    "\n",
    "plt.show()"
   ]
  },
  {
   "cell_type": "markdown",
   "metadata": {},
   "source": [
    "###"
   ]
  }
 ],
 "metadata": {
  "kernelspec": {
   "display_name": "Python 3",
   "language": "python",
   "name": "python3"
  },
  "language_info": {
   "codemirror_mode": {
    "name": "ipython",
    "version": 3
   },
   "file_extension": ".py",
   "mimetype": "text/x-python",
   "name": "python",
   "nbconvert_exporter": "python",
   "pygments_lexer": "ipython3",
   "version": "3.7.6"
  }
 },
 "nbformat": 4,
 "nbformat_minor": 4
}
