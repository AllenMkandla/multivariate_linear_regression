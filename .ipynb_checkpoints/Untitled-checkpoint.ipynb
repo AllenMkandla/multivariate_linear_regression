{
 "cells": [
  {
   "cell_type": "markdown",
   "metadata": {},
   "source": []
  },
  {
   "cell_type": "markdown",
   "metadata": {},
   "source": [
    "\n",
    "\n",
    "\n",
    "# MULTIVARIATE LINEAR REGRESSION\n",
    "\n",
    "### Background Information\n",
    "\n",
    "\n",
    "We will predict employee salaries from different employee characteristics (or features). Import the data salary.csv to a Jupyter Notebook. A description of the variables is given in Salary metadata.csv."
   ]
  },
  {
   "cell_type": "code",
   "execution_count": null,
   "metadata": {},
   "outputs": [],
   "source": []
  },
  {
   "cell_type": "code",
   "execution_count": 148,
   "metadata": {},
   "outputs": [],
   "source": [
    "import pandas as pd\n",
    "import seaborn as sns \n",
    "import matplotlib.pyplot as plt\n",
    "from sklearn.model_selection import train_test_split\n",
    "import statsmodels.formula.api as smf\n",
    "from statsmodels.stats.outliers_influence import variance_inflation_factor"
   ]
  },
  {
   "cell_type": "code",
   "execution_count": 149,
   "metadata": {},
   "outputs": [],
   "source": [
    "df = pd.read_csv(\"data/salary .csv\")"
   ]
  },
  {
   "cell_type": "code",
   "execution_count": 150,
   "metadata": {},
   "outputs": [
    {
     "data": {
      "text/html": [
       "<div>\n",
       "<style scoped>\n",
       "    .dataframe tbody tr th:only-of-type {\n",
       "        vertical-align: middle;\n",
       "    }\n",
       "\n",
       "    .dataframe tbody tr th {\n",
       "        vertical-align: top;\n",
       "    }\n",
       "\n",
       "    .dataframe thead th {\n",
       "        text-align: right;\n",
       "    }\n",
       "</style>\n",
       "<table border=\"1\" class=\"dataframe\">\n",
       "  <thead>\n",
       "    <tr style=\"text-align: right;\">\n",
       "      <th></th>\n",
       "      <th>salary</th>\n",
       "      <th>exprior</th>\n",
       "      <th>yearsworked</th>\n",
       "      <th>yearsrank</th>\n",
       "      <th>market</th>\n",
       "      <th>degree</th>\n",
       "      <th>otherqual</th>\n",
       "      <th>position</th>\n",
       "      <th>male</th>\n",
       "      <th>Field</th>\n",
       "      <th>yearsabs</th>\n",
       "    </tr>\n",
       "  </thead>\n",
       "  <tbody>\n",
       "    <tr>\n",
       "      <th>0</th>\n",
       "      <td>53000.0</td>\n",
       "      <td>0</td>\n",
       "      <td>0</td>\n",
       "      <td>0</td>\n",
       "      <td>1.17</td>\n",
       "      <td>1</td>\n",
       "      <td>0</td>\n",
       "      <td>1</td>\n",
       "      <td>1</td>\n",
       "      <td>3</td>\n",
       "      <td>0</td>\n",
       "    </tr>\n",
       "    <tr>\n",
       "      <th>1</th>\n",
       "      <td>58000.0</td>\n",
       "      <td>1</td>\n",
       "      <td>0</td>\n",
       "      <td>0</td>\n",
       "      <td>1.24</td>\n",
       "      <td>1</td>\n",
       "      <td>0</td>\n",
       "      <td>1</td>\n",
       "      <td>1</td>\n",
       "      <td>2</td>\n",
       "      <td>0</td>\n",
       "    </tr>\n",
       "    <tr>\n",
       "      <th>2</th>\n",
       "      <td>45500.0</td>\n",
       "      <td>0</td>\n",
       "      <td>0</td>\n",
       "      <td>0</td>\n",
       "      <td>1.21</td>\n",
       "      <td>1</td>\n",
       "      <td>0</td>\n",
       "      <td>1</td>\n",
       "      <td>1</td>\n",
       "      <td>3</td>\n",
       "      <td>2</td>\n",
       "    </tr>\n",
       "    <tr>\n",
       "      <th>3</th>\n",
       "      <td>35782.0</td>\n",
       "      <td>0</td>\n",
       "      <td>2</td>\n",
       "      <td>1</td>\n",
       "      <td>0.99</td>\n",
       "      <td>1</td>\n",
       "      <td>0</td>\n",
       "      <td>1</td>\n",
       "      <td>1</td>\n",
       "      <td>4</td>\n",
       "      <td>1</td>\n",
       "    </tr>\n",
       "    <tr>\n",
       "      <th>4</th>\n",
       "      <td>34731.0</td>\n",
       "      <td>0</td>\n",
       "      <td>2</td>\n",
       "      <td>2</td>\n",
       "      <td>0.91</td>\n",
       "      <td>1</td>\n",
       "      <td>0</td>\n",
       "      <td>1</td>\n",
       "      <td>1</td>\n",
       "      <td>4</td>\n",
       "      <td>1</td>\n",
       "    </tr>\n",
       "  </tbody>\n",
       "</table>\n",
       "</div>"
      ],
      "text/plain": [
       "    salary  exprior  yearsworked  yearsrank  market  degree  otherqual  \\\n",
       "0  53000.0        0            0          0    1.17       1          0   \n",
       "1  58000.0        1            0          0    1.24       1          0   \n",
       "2  45500.0        0            0          0    1.21       1          0   \n",
       "3  35782.0        0            2          1    0.99       1          0   \n",
       "4  34731.0        0            2          2    0.91       1          0   \n",
       "\n",
       "   position  male  Field  yearsabs  \n",
       "0         1     1      3         0  \n",
       "1         1     1      2         0  \n",
       "2         1     1      3         2  \n",
       "3         1     1      4         1  \n",
       "4         1     1      4         1  "
      ]
     },
     "execution_count": 150,
     "metadata": {},
     "output_type": "execute_result"
    }
   ],
   "source": [
    "df.head()"
   ]
  },
  {
   "cell_type": "markdown",
   "metadata": {},
   "source": [
    "# 1. Cleaning of Data"
   ]
  },
  {
   "cell_type": "code",
   "execution_count": 151,
   "metadata": {},
   "outputs": [],
   "source": [
    "#renaming the columns\n",
    "file= df.rename(columns={\n",
    "    'salary': 'salary_earned',\n",
    "    'exprior': 'prior_experience',\n",
    "    'yearsworked': 'years_worked',\n",
    "    'yearsrank': 'yrs_current_rank',\n",
    "    'market': 'market_value',\n",
    "    'male': 'gender',\n",
    "    'Field': 'field',\n",
    "    'yearsabs': 'years_absent',\n",
    "    'otherqual': 'post-secondary_qual',\n",
    "    'position': 'rank',\n",
    "    \n",
    "}, inplace=True\n",
    "                       )"
   ]
  },
  {
   "cell_type": "code",
   "execution_count": 152,
   "metadata": {},
   "outputs": [],
   "source": [
    "# Rounding off salary column as it is a variable representing currency\n",
    "df.salary_earned = df.salary_earned.round(2)"
   ]
  },
  {
   "cell_type": "markdown",
   "metadata": {},
   "source": [
    "### 1.1 Checking for null values "
   ]
  },
  {
   "cell_type": "code",
   "execution_count": 153,
   "metadata": {},
   "outputs": [
    {
     "data": {
      "text/plain": [
       "(514, 11)"
      ]
     },
     "execution_count": 153,
     "metadata": {},
     "output_type": "execute_result"
    }
   ],
   "source": [
    "df.isnull().sum()\n",
    "df.shape"
   ]
  },
  {
   "cell_type": "code",
   "execution_count": 154,
   "metadata": {},
   "outputs": [],
   "source": [
    "#filling the null value with the mean\n",
    "df = df.fillna(df['salary_earned'].mean())\n"
   ]
  },
  {
   "cell_type": "markdown",
   "metadata": {},
   "source": [
    "### 1.2 Derteming the outliers"
   ]
  },
  {
   "cell_type": "markdown",
   "metadata": {},
   "source": [
    "##### Importance of  checking for extreme values (outliers)\n",
    "* Linear regression is based on mostly parametric statistics like means, standard deviation and in this case correlation between salary earned and years of experience accrued. \n",
    "\n",
    "* Outliers who alter parametric statistics significantly would in turn alter predictions to be made."
   ]
  },
  {
   "cell_type": "code",
   "execution_count": 155,
   "metadata": {},
   "outputs": [
    {
     "data": {
      "text/html": [
       "<div>\n",
       "<style scoped>\n",
       "    .dataframe tbody tr th:only-of-type {\n",
       "        vertical-align: middle;\n",
       "    }\n",
       "\n",
       "    .dataframe tbody tr th {\n",
       "        vertical-align: top;\n",
       "    }\n",
       "\n",
       "    .dataframe thead th {\n",
       "        text-align: right;\n",
       "    }\n",
       "</style>\n",
       "<table border=\"1\" class=\"dataframe\">\n",
       "  <thead>\n",
       "    <tr style=\"text-align: right;\">\n",
       "      <th></th>\n",
       "      <th>salary_earned</th>\n",
       "      <th>prior_experience</th>\n",
       "      <th>years_worked</th>\n",
       "      <th>yrs_current_rank</th>\n",
       "      <th>market_value</th>\n",
       "      <th>degree</th>\n",
       "      <th>post-secondary_qual</th>\n",
       "      <th>rank</th>\n",
       "      <th>gender</th>\n",
       "      <th>field</th>\n",
       "      <th>years_absent</th>\n",
       "      <th>Is_it_an_extreme</th>\n",
       "    </tr>\n",
       "  </thead>\n",
       "  <tbody>\n",
       "    <tr>\n",
       "      <th>280</th>\n",
       "      <td>91405.0</td>\n",
       "      <td>0</td>\n",
       "      <td>23</td>\n",
       "      <td>14</td>\n",
       "      <td>1.18</td>\n",
       "      <td>1</td>\n",
       "      <td>0</td>\n",
       "      <td>3</td>\n",
       "      <td>1</td>\n",
       "      <td>1</td>\n",
       "      <td>0</td>\n",
       "      <td>Yes</td>\n",
       "    </tr>\n",
       "    <tr>\n",
       "      <th>377</th>\n",
       "      <td>96156.0</td>\n",
       "      <td>20</td>\n",
       "      <td>12</td>\n",
       "      <td>12</td>\n",
       "      <td>1.19</td>\n",
       "      <td>1</td>\n",
       "      <td>0</td>\n",
       "      <td>3</td>\n",
       "      <td>1</td>\n",
       "      <td>1</td>\n",
       "      <td>2</td>\n",
       "      <td>Yes</td>\n",
       "    </tr>\n",
       "  </tbody>\n",
       "</table>\n",
       "</div>"
      ],
      "text/plain": [
       "     salary_earned  prior_experience  years_worked  yrs_current_rank  \\\n",
       "280        91405.0                 0            23                14   \n",
       "377        96156.0                20            12                12   \n",
       "\n",
       "     market_value  degree  post-secondary_qual  rank  gender  field  \\\n",
       "280          1.18       1                    0     3       1      1   \n",
       "377          1.19       1                    0     3       1      1   \n",
       "\n",
       "     years_absent Is_it_an_extreme  \n",
       "280             0              Yes  \n",
       "377             2              Yes  "
      ]
     },
     "execution_count": 155,
     "metadata": {},
     "output_type": "execute_result"
    }
   ],
   "source": [
    "# dertemening the measure of what is construed to be an outlier\n",
    "import numpy as np\n",
    "# calculating the 75th and 25th percentiles\n",
    "q75_train, q25_train = np.percentile(df['salary_earned'], [75 ,25])\n",
    "#calculating the interqurtile range\n",
    "iqr_train = q75_train - q25_train\n",
    "# creating limitations to dettermie outliers\n",
    "lower_train_bound = q25_train - iqr_train*1.5\n",
    "upper_train_bound = q75_train + iqr_train*1.5\n",
    "df['Is_it_an_extreme'] = ['Yes' if i < lower_train_bound else 'Yes' if i > upper_train_bound else \"No\" for i in df.salary_earned]\n",
    "df_outliers = df[df.Is_it_an_extreme == 'Yes']\n",
    "df_outliers"
   ]
  },
  {
   "cell_type": "markdown",
   "metadata": {},
   "source": [
    "\n",
    "* The outliers in question do not change the results desired from the model but does affect assumptions made about the dependant variable(salary_earned)\n",
    "\n",
    "* The gradient of the regression model and the mean would be affected significantly enough to give reason for dropiing the values. The accuracy of the Predictions to be made will be slightly distorted due to that the values in question affect the skew of distribution for salary_earned. \n",
    "##### * The extreme values should be dropped"
   ]
  },
  {
   "cell_type": "markdown",
   "metadata": {},
   "source": [
    "####  Dropping the outliers"
   ]
  },
  {
   "cell_type": "code",
   "execution_count": 156,
   "metadata": {},
   "outputs": [],
   "source": [
    "#dropping the outliers\n",
    "df = df.drop(df.index[[280,377]])"
   ]
  },
  {
   "cell_type": "markdown",
   "metadata": {},
   "source": [
    "\n",
    "# 3. Feature selection"
   ]
  },
  {
   "cell_type": "markdown",
   "metadata": {},
   "source": [
    "### 1.3 Dertemining the variables of interest"
   ]
  },
  {
   "cell_type": "code",
   "execution_count": 157,
   "metadata": {},
   "outputs": [
    {
     "data": {
      "text/html": [
       "<div>\n",
       "<style scoped>\n",
       "    .dataframe tbody tr th:only-of-type {\n",
       "        vertical-align: middle;\n",
       "    }\n",
       "\n",
       "    .dataframe tbody tr th {\n",
       "        vertical-align: top;\n",
       "    }\n",
       "\n",
       "    .dataframe thead th {\n",
       "        text-align: right;\n",
       "    }\n",
       "</style>\n",
       "<table border=\"1\" class=\"dataframe\">\n",
       "  <thead>\n",
       "    <tr style=\"text-align: right;\">\n",
       "      <th></th>\n",
       "      <th>salary_earned</th>\n",
       "      <th>prior_experience</th>\n",
       "      <th>years_worked</th>\n",
       "      <th>yrs_current_rank</th>\n",
       "      <th>market_value</th>\n",
       "      <th>degree</th>\n",
       "      <th>post-secondary_qual</th>\n",
       "      <th>rank</th>\n",
       "      <th>gender</th>\n",
       "      <th>field</th>\n",
       "      <th>years_absent</th>\n",
       "    </tr>\n",
       "  </thead>\n",
       "  <tbody>\n",
       "    <tr>\n",
       "      <th>salary_earned</th>\n",
       "      <td>1.0</td>\n",
       "      <td>0.102471</td>\n",
       "      <td>0.632135</td>\n",
       "      <td>0.613411</td>\n",
       "      <td>0.397153</td>\n",
       "      <td>0.043012</td>\n",
       "      <td>0.173972</td>\n",
       "      <td>0.704892</td>\n",
       "      <td>0.362302</td>\n",
       "      <td>-0.493484</td>\n",
       "      <td>-0.066496</td>\n",
       "    </tr>\n",
       "  </tbody>\n",
       "</table>\n",
       "</div>"
      ],
      "text/plain": [
       "               salary_earned  prior_experience  years_worked  \\\n",
       "salary_earned            1.0          0.102471      0.632135   \n",
       "\n",
       "               yrs_current_rank  market_value    degree  post-secondary_qual  \\\n",
       "salary_earned          0.613411      0.397153  0.043012             0.173972   \n",
       "\n",
       "                   rank    gender     field  years_absent  \n",
       "salary_earned  0.704892  0.362302 -0.493484     -0.066496  "
      ]
     },
     "execution_count": 157,
     "metadata": {},
     "output_type": "execute_result"
    }
   ],
   "source": [
    "df.corr().head(1)"
   ]
  },
  {
   "cell_type": "markdown",
   "metadata": {},
   "source": [
    "From the table above, we can deduce that the following may be good predictors of salary_earned:\n",
    "* years_worked\n",
    "* yrs_current_rank\n",
    "* market_value\n",
    "* rank\n",
    "* field"
   ]
  },
  {
   "cell_type": "markdown",
   "metadata": {},
   "source": [
    "### Feature Engineering"
   ]
  },
  {
   "cell_type": "markdown",
   "metadata": {},
   "source": [
    "### One- hot encoding categorical variables of interest"
   ]
  },
  {
   "cell_type": "code",
   "execution_count": 158,
   "metadata": {},
   "outputs": [],
   "source": [
    "df[\"rank\"] = df[\"rank\"].replace([1, 2, 3], ['Junior Employee', 'Manager', 'Executive'])\n",
    "df = pd.get_dummies(df).drop('rank_Manager', axis=1)\n"
   ]
  },
  {
   "cell_type": "code",
   "execution_count": 159,
   "metadata": {},
   "outputs": [],
   "source": [
    "# field one hot encoding \n",
    "df[\"field\"] = df[\"field\"].replace([1, 2, 3, 4], ['Engineering', 'Finance', 'Human Resources', 'Marketing'])\n",
    "df = pd.get_dummies(df).drop('field_Human Resources', axis=1)\n"
   ]
  },
  {
   "cell_type": "markdown",
   "metadata": {},
   "source": [
    "#### VIF\n",
    "\n",
    "years_worked\n",
    "yrs_current_rank\n",
    "market_value\n",
    "rank\n",
    "field"
   ]
  },
  {
   "cell_type": "markdown",
   "metadata": {},
   "source": [
    "## Multicollinearity"
   ]
  },
  {
   "cell_type": "markdown",
   "metadata": {},
   "source": [
    "This occurs when two or more variables explain the same variance within a dataset. Hence it is important to check for multicollinearity to reduce the risk of using two independent variables that contribute the same effect to the prediction to be made."
   ]
  },
  {
   "cell_type": "code",
   "execution_count": 160,
   "metadata": {},
   "outputs": [
    {
     "data": {
      "text/html": [
       "<div>\n",
       "<style scoped>\n",
       "    .dataframe tbody tr th:only-of-type {\n",
       "        vertical-align: middle;\n",
       "    }\n",
       "\n",
       "    .dataframe tbody tr th {\n",
       "        vertical-align: top;\n",
       "    }\n",
       "\n",
       "    .dataframe thead th {\n",
       "        text-align: right;\n",
       "    }\n",
       "</style>\n",
       "<table border=\"1\" class=\"dataframe\">\n",
       "  <thead>\n",
       "    <tr style=\"text-align: right;\">\n",
       "      <th></th>\n",
       "      <th>salary_earned</th>\n",
       "      <th>prior_experience</th>\n",
       "      <th>years_worked</th>\n",
       "      <th>yrs_current_rank</th>\n",
       "      <th>market_value</th>\n",
       "      <th>degree</th>\n",
       "      <th>post-secondary_qual</th>\n",
       "      <th>gender</th>\n",
       "      <th>years_absent</th>\n",
       "      <th>rank_Executive</th>\n",
       "      <th>rank_Junior Employee</th>\n",
       "      <th>Is_it_an_extreme_No</th>\n",
       "      <th>field_Engineering</th>\n",
       "      <th>field_Finance</th>\n",
       "      <th>field_Marketing</th>\n",
       "    </tr>\n",
       "  </thead>\n",
       "  <tbody>\n",
       "    <tr>\n",
       "      <th>salary_earned</th>\n",
       "      <td>1.0</td>\n",
       "      <td>0.102471</td>\n",
       "      <td>0.632135</td>\n",
       "      <td>0.613411</td>\n",
       "      <td>0.397153</td>\n",
       "      <td>0.043012</td>\n",
       "      <td>0.173972</td>\n",
       "      <td>0.362302</td>\n",
       "      <td>-0.066496</td>\n",
       "      <td>0.678244</td>\n",
       "      <td>-0.543852</td>\n",
       "      <td>NaN</td>\n",
       "      <td>0.414572</td>\n",
       "      <td>0.244826</td>\n",
       "      <td>-0.213358</td>\n",
       "    </tr>\n",
       "  </tbody>\n",
       "</table>\n",
       "</div>"
      ],
      "text/plain": [
       "               salary_earned  prior_experience  years_worked  \\\n",
       "salary_earned            1.0          0.102471      0.632135   \n",
       "\n",
       "               yrs_current_rank  market_value    degree  post-secondary_qual  \\\n",
       "salary_earned          0.613411      0.397153  0.043012             0.173972   \n",
       "\n",
       "                 gender  years_absent  rank_Executive  rank_Junior Employee  \\\n",
       "salary_earned  0.362302     -0.066496        0.678244             -0.543852   \n",
       "\n",
       "               Is_it_an_extreme_No  field_Engineering  field_Finance  \\\n",
       "salary_earned                  NaN           0.414572       0.244826   \n",
       "\n",
       "               field_Marketing  \n",
       "salary_earned        -0.213358  "
      ]
     },
     "execution_count": 160,
     "metadata": {},
     "output_type": "execute_result"
    }
   ],
   "source": [
    "df.corr().head(1)"
   ]
  },
  {
   "cell_type": "code",
   "execution_count": 177,
   "metadata": {},
   "outputs": [
    {
     "data": {
      "text/html": [
       "<div>\n",
       "<style scoped>\n",
       "    .dataframe tbody tr th:only-of-type {\n",
       "        vertical-align: middle;\n",
       "    }\n",
       "\n",
       "    .dataframe tbody tr th {\n",
       "        vertical-align: top;\n",
       "    }\n",
       "\n",
       "    .dataframe thead th {\n",
       "        text-align: right;\n",
       "    }\n",
       "</style>\n",
       "<table border=\"1\" class=\"dataframe\">\n",
       "  <thead>\n",
       "    <tr style=\"text-align: right;\">\n",
       "      <th></th>\n",
       "      <th>VIF_factor</th>\n",
       "      <th>feature</th>\n",
       "    </tr>\n",
       "  </thead>\n",
       "  <tbody>\n",
       "    <tr>\n",
       "      <th>0</th>\n",
       "      <td>14.819037</td>\n",
       "      <td>years_worked</td>\n",
       "    </tr>\n",
       "    <tr>\n",
       "      <th>1</th>\n",
       "      <td>7.186575</td>\n",
       "      <td>yrs_current_rank</td>\n",
       "    </tr>\n",
       "    <tr>\n",
       "      <th>2</th>\n",
       "      <td>5.834599</td>\n",
       "      <td>market_value</td>\n",
       "    </tr>\n",
       "    <tr>\n",
       "      <th>3</th>\n",
       "      <td>3.228318</td>\n",
       "      <td>rank_Executive</td>\n",
       "    </tr>\n",
       "    <tr>\n",
       "      <th>4</th>\n",
       "      <td>2.320978</td>\n",
       "      <td>rank_Junior Employee</td>\n",
       "    </tr>\n",
       "  </tbody>\n",
       "</table>\n",
       "</div>"
      ],
      "text/plain": [
       "   VIF_factor               feature\n",
       "0   14.819037          years_worked\n",
       "1    7.186575      yrs_current_rank\n",
       "2    5.834599          market_value\n",
       "3    3.228318        rank_Executive\n",
       "4    2.320978  rank_Junior Employee"
      ]
     },
     "execution_count": 177,
     "metadata": {},
     "output_type": "execute_result"
    }
   ],
   "source": [
    "vif = pd.DataFrame()\n",
    "X = df[['years_worked','yrs_current_rank','market_value','rank_Executive', 'rank_Junior Employee']]\n",
    "# for each feature(independant variable in X), calculate VIF\n",
    "vif[\"VIF_factor\"] = [variance_inflation_factor(X.values, i) for i in range(X.shape[1])]\n",
    "vif[\"feature\"] = X.columns\n",
    "# vif = pd.DataFrame()\n",
    "vif"
   ]
  },
  {
   "cell_type": "markdown",
   "metadata": {},
   "source": [
    "\n",
    "drop the variable with VIF of 10 and higher which in this instant is years worked"
   ]
  },
  {
   "cell_type": "raw",
   "metadata": {},
   "source": [
    "# 2. Splitting the data"
   ]
  },
  {
   "cell_type": "code",
   "execution_count": 23,
   "metadata": {},
   "outputs": [],
   "source": [
    "from sklearn.model_selection import train_test_split\n",
    "x = df[['prior_experience','years_worked','yrs_current_rank','market_value','degree','rank', 'gender', 'field', 'years_absent']]\n",
    "y = df['salary_earned']\n",
    "X_train, X_test, y_train, y_test = train_test_split(x, y, test_size=0.20)\n",
    "# X_train"
   ]
  },
  {
   "cell_type": "code",
   "execution_count": 24,
   "metadata": {},
   "outputs": [
    {
     "data": {
      "text/html": [
       "<div>\n",
       "<style scoped>\n",
       "    .dataframe tbody tr th:only-of-type {\n",
       "        vertical-align: middle;\n",
       "    }\n",
       "\n",
       "    .dataframe tbody tr th {\n",
       "        vertical-align: top;\n",
       "    }\n",
       "\n",
       "    .dataframe thead th {\n",
       "        text-align: right;\n",
       "    }\n",
       "</style>\n",
       "<table border=\"1\" class=\"dataframe\">\n",
       "  <thead>\n",
       "    <tr style=\"text-align: right;\">\n",
       "      <th></th>\n",
       "      <th>prior_experience</th>\n",
       "      <th>years_worked</th>\n",
       "      <th>yrs_current_rank</th>\n",
       "      <th>market_value</th>\n",
       "      <th>degree</th>\n",
       "      <th>rank</th>\n",
       "      <th>gender</th>\n",
       "      <th>field</th>\n",
       "      <th>years_absent</th>\n",
       "      <th>salary_earned</th>\n",
       "    </tr>\n",
       "  </thead>\n",
       "  <tbody>\n",
       "    <tr>\n",
       "      <th>313</th>\n",
       "      <td>12</td>\n",
       "      <td>13</td>\n",
       "      <td>13</td>\n",
       "      <td>1.13</td>\n",
       "      <td>1</td>\n",
       "      <td>3</td>\n",
       "      <td>1</td>\n",
       "      <td>4</td>\n",
       "      <td>0</td>\n",
       "      <td>57965.12</td>\n",
       "    </tr>\n",
       "    <tr>\n",
       "      <th>416</th>\n",
       "      <td>0</td>\n",
       "      <td>3</td>\n",
       "      <td>3</td>\n",
       "      <td>0.84</td>\n",
       "      <td>1</td>\n",
       "      <td>1</td>\n",
       "      <td>0</td>\n",
       "      <td>3</td>\n",
       "      <td>7</td>\n",
       "      <td>40000.00</td>\n",
       "    </tr>\n",
       "    <tr>\n",
       "      <th>354</th>\n",
       "      <td>3</td>\n",
       "      <td>26</td>\n",
       "      <td>17</td>\n",
       "      <td>0.92</td>\n",
       "      <td>1</td>\n",
       "      <td>3</td>\n",
       "      <td>1</td>\n",
       "      <td>2</td>\n",
       "      <td>0</td>\n",
       "      <td>63357.00</td>\n",
       "    </tr>\n",
       "    <tr>\n",
       "      <th>347</th>\n",
       "      <td>0</td>\n",
       "      <td>27</td>\n",
       "      <td>20</td>\n",
       "      <td>0.99</td>\n",
       "      <td>1</td>\n",
       "      <td>3</td>\n",
       "      <td>1</td>\n",
       "      <td>2</td>\n",
       "      <td>0</td>\n",
       "      <td>63337.00</td>\n",
       "    </tr>\n",
       "    <tr>\n",
       "      <th>122</th>\n",
       "      <td>0</td>\n",
       "      <td>12</td>\n",
       "      <td>4</td>\n",
       "      <td>0.88</td>\n",
       "      <td>1</td>\n",
       "      <td>2</td>\n",
       "      <td>1</td>\n",
       "      <td>2</td>\n",
       "      <td>0</td>\n",
       "      <td>49667.00</td>\n",
       "    </tr>\n",
       "  </tbody>\n",
       "</table>\n",
       "</div>"
      ],
      "text/plain": [
       "     prior_experience  years_worked  yrs_current_rank  market_value  degree  \\\n",
       "313                12            13                13          1.13       1   \n",
       "416                 0             3                 3          0.84       1   \n",
       "354                 3            26                17          0.92       1   \n",
       "347                 0            27                20          0.99       1   \n",
       "122                 0            12                 4          0.88       1   \n",
       "\n",
       "     rank  gender  field  years_absent  salary_earned  \n",
       "313     3       1      4             0       57965.12  \n",
       "416     1       0      3             7       40000.00  \n",
       "354     3       1      2             0       63357.00  \n",
       "347     3       1      2             0       63337.00  \n",
       "122     2       1      2             0       49667.00  "
      ]
     },
     "execution_count": 24,
     "metadata": {},
     "output_type": "execute_result"
    }
   ],
   "source": [
    "df_train = pd.concat([X_train, y_train], axis=1).reindex(X_train.index)\n",
    "df_test = pd.concat([X_test, y_test], axis=1).reindex(X_train.index)\n",
    "\n",
    "df_train.head()"
   ]
  },
  {
   "cell_type": "markdown",
   "metadata": {},
   "source": [
    "### 3.1 Years_worked"
   ]
  },
  {
   "cell_type": "code",
   "execution_count": 25,
   "metadata": {},
   "outputs": [
    {
     "data": {
      "text/plain": [
       "<matplotlib.axes._subplots.AxesSubplot at 0x7facab9adad0>"
      ]
     },
     "execution_count": 25,
     "metadata": {},
     "output_type": "execute_result"
    },
    {
     "data": {
      "image/png": "[encoded data removed]",
      "text/plain": [
       "<Figure size 2160x720 with 3 Axes>"
      ]
     },
     "metadata": {
      "needs_background": "light"
     },
     "output_type": "display_data"
    }
   ],
   "source": [
    "fig, axs = plt.subplots(1, 3, sharey=True)\n",
    "df_train.plot(kind='scatter', x='years_worked', y='salary_earned',title=\"years_worked~salary_earned\", ax=axs[0], figsize=(30, 10))\n",
    "df_train.plot(kind='scatter', x='yrs_current_rank', y='salary_earned',title=\"yrs_in_current_rank~salary_earned\",ax=axs[1])\n",
    "df_train.plot(kind='scatter', x='market_value', y='salary_earned', title=\"market_value~salary_earned\", ax=axs[2])"
   ]
  },
  {
   "cell_type": "code",
   "execution_count": 26,
   "metadata": {},
   "outputs": [
    {
     "data": {
      "image/png": "[encoded data removed]",
      "text/plain": [
       "<Figure size 1872x1296 with 4 Axes>"
      ]
     },
     "metadata": {
      "needs_background": "light"
     },
     "output_type": "display_data"
    }
   ],
   "source": [
    "plt.subplots(2, 2,figsize=(26, 18))\n",
    "plt.subplot(2,2,1)\n",
    "plt.hist(df_train[\"salary_earned\"], bins = 10)\n",
    "plt.title(\"Salary earned\")\n",
    "\n",
    "plt.subplot(2,2,2)\n",
    "plt.hist(df_train[\"years_worked\"])\n",
    "\n",
    "plt.subplot(2,2,3)\n",
    "plt.hist(df_train[\"yrs_current_rank\"])\n",
    "\n",
    "plt.subplot(2,2,4)\n",
    "plt.hist(df_train[\"market_value\"])\n",
    "\n",
    "plt.show()"
   ]
  },
  {
   "cell_type": "code",
   "execution_count": 13,
   "metadata": {},
   "outputs": [
    {
     "data": {
      "text/html": [
       "<div>\n",
       "<style scoped>\n",
       "    .dataframe tbody tr th:only-of-type {\n",
       "        vertical-align: middle;\n",
       "    }\n",
       "\n",
       "    .dataframe tbody tr th {\n",
       "        vertical-align: top;\n",
       "    }\n",
       "\n",
       "    .dataframe thead th {\n",
       "        text-align: right;\n",
       "    }\n",
       "</style>\n",
       "<table border=\"1\" class=\"dataframe\">\n",
       "  <thead>\n",
       "    <tr style=\"text-align: right;\">\n",
       "      <th></th>\n",
       "      <th>prior_experience</th>\n",
       "      <th>years_worked</th>\n",
       "      <th>yrs_current_rank</th>\n",
       "      <th>market_value</th>\n",
       "      <th>degree</th>\n",
       "      <th>rank</th>\n",
       "      <th>gender</th>\n",
       "      <th>field</th>\n",
       "      <th>years_absent</th>\n",
       "      <th>salary_earned</th>\n",
       "    </tr>\n",
       "  </thead>\n",
       "  <tbody>\n",
       "    <tr>\n",
       "      <th>prior_experience</th>\n",
       "      <td>1.000000</td>\n",
       "      <td>-0.280621</td>\n",
       "      <td>-0.109417</td>\n",
       "      <td>-0.024878</td>\n",
       "      <td>-0.054163</td>\n",
       "      <td>0.101014</td>\n",
       "      <td>0.033122</td>\n",
       "      <td>-0.011709</td>\n",
       "      <td>0.118774</td>\n",
       "      <td>0.076478</td>\n",
       "    </tr>\n",
       "    <tr>\n",
       "      <th>years_worked</th>\n",
       "      <td>-0.280621</td>\n",
       "      <td>1.000000</td>\n",
       "      <td>0.810545</td>\n",
       "      <td>-0.064356</td>\n",
       "      <td>0.041036</td>\n",
       "      <td>0.739474</td>\n",
       "      <td>0.290855</td>\n",
       "      <td>-0.282312</td>\n",
       "      <td>0.025180</td>\n",
       "      <td>0.642931</td>\n",
       "    </tr>\n",
       "    <tr>\n",
       "      <th>yrs_current_rank</th>\n",
       "      <td>-0.109417</td>\n",
       "      <td>0.810545</td>\n",
       "      <td>1.000000</td>\n",
       "      <td>-0.013871</td>\n",
       "      <td>0.020492</td>\n",
       "      <td>0.473803</td>\n",
       "      <td>0.237875</td>\n",
       "      <td>-0.286567</td>\n",
       "      <td>0.014093</td>\n",
       "      <td>0.621468</td>\n",
       "    </tr>\n",
       "    <tr>\n",
       "      <th>market_value</th>\n",
       "      <td>-0.024878</td>\n",
       "      <td>-0.064356</td>\n",
       "      <td>-0.013871</td>\n",
       "      <td>1.000000</td>\n",
       "      <td>0.027457</td>\n",
       "      <td>-0.018433</td>\n",
       "      <td>0.169025</td>\n",
       "      <td>-0.192074</td>\n",
       "      <td>-0.144991</td>\n",
       "      <td>0.399908</td>\n",
       "    </tr>\n",
       "    <tr>\n",
       "      <th>degree</th>\n",
       "      <td>-0.054163</td>\n",
       "      <td>0.041036</td>\n",
       "      <td>0.020492</td>\n",
       "      <td>0.027457</td>\n",
       "      <td>1.000000</td>\n",
       "      <td>0.051701</td>\n",
       "      <td>0.060170</td>\n",
       "      <td>-0.088593</td>\n",
       "      <td>0.025220</td>\n",
       "      <td>0.033509</td>\n",
       "    </tr>\n",
       "    <tr>\n",
       "      <th>rank</th>\n",
       "      <td>0.101014</td>\n",
       "      <td>0.739474</td>\n",
       "      <td>0.473803</td>\n",
       "      <td>-0.018433</td>\n",
       "      <td>0.051701</td>\n",
       "      <td>1.000000</td>\n",
       "      <td>0.322649</td>\n",
       "      <td>-0.305942</td>\n",
       "      <td>0.012316</td>\n",
       "      <td>0.706377</td>\n",
       "    </tr>\n",
       "    <tr>\n",
       "      <th>gender</th>\n",
       "      <td>0.033122</td>\n",
       "      <td>0.290855</td>\n",
       "      <td>0.237875</td>\n",
       "      <td>0.169025</td>\n",
       "      <td>0.060170</td>\n",
       "      <td>0.322649</td>\n",
       "      <td>1.000000</td>\n",
       "      <td>-0.140612</td>\n",
       "      <td>-0.671113</td>\n",
       "      <td>0.367030</td>\n",
       "    </tr>\n",
       "    <tr>\n",
       "      <th>field</th>\n",
       "      <td>-0.011709</td>\n",
       "      <td>-0.282312</td>\n",
       "      <td>-0.286567</td>\n",
       "      <td>-0.192074</td>\n",
       "      <td>-0.088593</td>\n",
       "      <td>-0.305942</td>\n",
       "      <td>-0.140612</td>\n",
       "      <td>1.000000</td>\n",
       "      <td>0.007394</td>\n",
       "      <td>-0.491543</td>\n",
       "    </tr>\n",
       "    <tr>\n",
       "      <th>years_absent</th>\n",
       "      <td>0.118774</td>\n",
       "      <td>0.025180</td>\n",
       "      <td>0.014093</td>\n",
       "      <td>-0.144991</td>\n",
       "      <td>0.025220</td>\n",
       "      <td>0.012316</td>\n",
       "      <td>-0.671113</td>\n",
       "      <td>0.007394</td>\n",
       "      <td>1.000000</td>\n",
       "      <td>-0.089522</td>\n",
       "    </tr>\n",
       "    <tr>\n",
       "      <th>salary_earned</th>\n",
       "      <td>0.076478</td>\n",
       "      <td>0.642931</td>\n",
       "      <td>0.621468</td>\n",
       "      <td>0.399908</td>\n",
       "      <td>0.033509</td>\n",
       "      <td>0.706377</td>\n",
       "      <td>0.367030</td>\n",
       "      <td>-0.491543</td>\n",
       "      <td>-0.089522</td>\n",
       "      <td>1.000000</td>\n",
       "    </tr>\n",
       "  </tbody>\n",
       "</table>\n",
       "</div>"
      ],
      "text/plain": [
       "                  prior_experience  years_worked  yrs_current_rank  \\\n",
       "prior_experience          1.000000     -0.280621         -0.109417   \n",
       "years_worked             -0.280621      1.000000          0.810545   \n",
       "yrs_current_rank         -0.109417      0.810545          1.000000   \n",
       "market_value             -0.024878     -0.064356         -0.013871   \n",
       "degree                   -0.054163      0.041036          0.020492   \n",
       "rank                      0.101014      0.739474          0.473803   \n",
       "gender                    0.033122      0.290855          0.237875   \n",
       "field                    -0.011709     -0.282312         -0.286567   \n",
       "years_absent              0.118774      0.025180          0.014093   \n",
       "salary_earned             0.076478      0.642931          0.621468   \n",
       "\n",
       "                  market_value    degree      rank    gender     field  \\\n",
       "prior_experience     -0.024878 -0.054163  0.101014  0.033122 -0.011709   \n",
       "years_worked         -0.064356  0.041036  0.739474  0.290855 -0.282312   \n",
       "yrs_current_rank     -0.013871  0.020492  0.473803  0.237875 -0.286567   \n",
       "market_value          1.000000  0.027457 -0.018433  0.169025 -0.192074   \n",
       "degree                0.027457  1.000000  0.051701  0.060170 -0.088593   \n",
       "rank                 -0.018433  0.051701  1.000000  0.322649 -0.305942   \n",
       "gender                0.169025  0.060170  0.322649  1.000000 -0.140612   \n",
       "field                -0.192074 -0.088593 -0.305942 -0.140612  1.000000   \n",
       "years_absent         -0.144991  0.025220  0.012316 -0.671113  0.007394   \n",
       "salary_earned         0.399908  0.033509  0.706377  0.367030 -0.491543   \n",
       "\n",
       "                  years_absent  salary_earned  \n",
       "prior_experience      0.118774       0.076478  \n",
       "years_worked          0.025180       0.642931  \n",
       "yrs_current_rank      0.014093       0.621468  \n",
       "market_value         -0.144991       0.399908  \n",
       "degree                0.025220       0.033509  \n",
       "rank                  0.012316       0.706377  \n",
       "gender               -0.671113       0.367030  \n",
       "field                 0.007394      -0.491543  \n",
       "years_absent          1.000000      -0.089522  \n",
       "salary_earned        -0.089522       1.000000  "
      ]
     },
     "execution_count": 13,
     "metadata": {},
     "output_type": "execute_result"
    }
   ],
   "source": []
  },
  {
   "cell_type": "markdown",
   "metadata": {},
   "source": [
    "##"
   ]
  },
  {
   "cell_type": "code",
   "execution_count": null,
   "metadata": {},
   "outputs": [],
   "source": []
  },
  {
   "cell_type": "code",
   "execution_count": null,
   "metadata": {},
   "outputs": [],
   "source": []
  }
 ],
 "metadata": {
  "kernelspec": {
   "display_name": "Python 3",
   "language": "python",
   "name": "python3"
  },
  "language_info": {
   "codemirror_mode": {
    "name": "ipython",
    "version": 3
   },
   "file_extension": ".py",
   "mimetype": "text/x-python",
   "name": "python",
   "nbconvert_exporter": "python",
   "pygments_lexer": "ipython3",
   "version": "3.7.4"
  }
 },
 "nbformat": 4,
 "nbformat_minor": 4
}
